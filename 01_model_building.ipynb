{
 "cells": [
  {
   "cell_type": "code",
   "execution_count": 1,
   "metadata": {},
   "outputs": [],
   "source": [
    "import numpy as np\n",
    "import pandas as pd\n",
    "import matplotlib.pyplot as plt\n",
    "import os\n",
    "import cv2"
   ]
  },
  {
   "cell_type": "markdown",
   "metadata": {},
   "source": [
    "#### Data Loading"
   ]
  },
  {
   "cell_type": "code",
   "execution_count": 2,
   "metadata": {},
   "outputs": [
    {
     "data": {
      "text/html": [
       "<div>\n",
       "<style scoped>\n",
       "    .dataframe tbody tr th:only-of-type {\n",
       "        vertical-align: middle;\n",
       "    }\n",
       "\n",
       "    .dataframe tbody tr th {\n",
       "        vertical-align: top;\n",
       "    }\n",
       "\n",
       "    .dataframe thead th {\n",
       "        text-align: right;\n",
       "    }\n",
       "</style>\n",
       "<table border=\"1\" class=\"dataframe\">\n",
       "  <thead>\n",
       "    <tr style=\"text-align: right;\">\n",
       "      <th></th>\n",
       "      <th>filepath</th>\n",
       "      <th>xmin</th>\n",
       "      <th>xmax</th>\n",
       "      <th>ymin</th>\n",
       "      <th>ymax</th>\n",
       "    </tr>\n",
       "  </thead>\n",
       "  <tbody>\n",
       "    <tr>\n",
       "      <th>0</th>\n",
       "      <td>./images_labeled_xml\\N1.xml</td>\n",
       "      <td>1093</td>\n",
       "      <td>1396</td>\n",
       "      <td>645</td>\n",
       "      <td>727</td>\n",
       "    </tr>\n",
       "    <tr>\n",
       "      <th>1</th>\n",
       "      <td>./images_labeled_xml\\N100.xml</td>\n",
       "      <td>134</td>\n",
       "      <td>301</td>\n",
       "      <td>312</td>\n",
       "      <td>350</td>\n",
       "    </tr>\n",
       "    <tr>\n",
       "      <th>2</th>\n",
       "      <td>./images_labeled_xml\\N101.xml</td>\n",
       "      <td>31</td>\n",
       "      <td>139</td>\n",
       "      <td>128</td>\n",
       "      <td>161</td>\n",
       "    </tr>\n",
       "    <tr>\n",
       "      <th>3</th>\n",
       "      <td>./images_labeled_xml\\N102.xml</td>\n",
       "      <td>164</td>\n",
       "      <td>316</td>\n",
       "      <td>216</td>\n",
       "      <td>243</td>\n",
       "    </tr>\n",
       "    <tr>\n",
       "      <th>4</th>\n",
       "      <td>./images_labeled_xml\\N103.xml</td>\n",
       "      <td>813</td>\n",
       "      <td>1067</td>\n",
       "      <td>665</td>\n",
       "      <td>724</td>\n",
       "    </tr>\n",
       "  </tbody>\n",
       "</table>\n",
       "</div>"
      ],
      "text/plain": [
       "                        filepath  xmin  xmax  ymin  ymax\n",
       "0    ./images_labeled_xml\\N1.xml  1093  1396   645   727\n",
       "1  ./images_labeled_xml\\N100.xml   134   301   312   350\n",
       "2  ./images_labeled_xml\\N101.xml    31   139   128   161\n",
       "3  ./images_labeled_xml\\N102.xml   164   316   216   243\n",
       "4  ./images_labeled_xml\\N103.xml   813  1067   665   724"
      ]
     },
     "execution_count": 2,
     "metadata": {},
     "output_type": "execute_result"
    }
   ],
   "source": [
    "data_df = pd.read_csv(\"./labels.csv\")\n",
    "data_df.head()"
   ]
  },
  {
   "cell_type": "code",
   "execution_count": 3,
   "metadata": {},
   "outputs": [],
   "source": [
    "import xml.etree.ElementTree as xet"
   ]
  },
  {
   "cell_type": "code",
   "execution_count": 4,
   "metadata": {},
   "outputs": [
    {
     "data": {
      "text/plain": [
       "'./images_labeled_xml\\\\N1.xml'"
      ]
     },
     "execution_count": 4,
     "metadata": {},
     "output_type": "execute_result"
    }
   ],
   "source": [
    "filename = data_df['filepath'][0]\n",
    "filename"
   ]
  },
  {
   "cell_type": "code",
   "execution_count": 5,
   "metadata": {},
   "outputs": [],
   "source": [
    "def get_filename(filename):\n",
    "    filename_img = xet.parse(filename).getroot().find('filename').text\n",
    "    filepath_img = os.path.join('./images_labeled_xml', filename_img)\n",
    "    return filepath_img"
   ]
  },
  {
   "cell_type": "code",
   "execution_count": 6,
   "metadata": {},
   "outputs": [
    {
     "name": "stdout",
     "output_type": "stream",
     "text": [
      "./images_labeled_xml\\N1.jpeg\n"
     ]
    }
   ],
   "source": [
    "print(get_filename(filename))"
   ]
  },
  {
   "cell_type": "code",
   "execution_count": 7,
   "metadata": {},
   "outputs": [
    {
     "data": {
      "text/plain": [
       "['./images_labeled_xml\\\\N1.jpeg',\n",
       " './images_labeled_xml\\\\N100.jpeg',\n",
       " './images_labeled_xml\\\\N101.jpeg',\n",
       " './images_labeled_xml\\\\N102.jpeg',\n",
       " './images_labeled_xml\\\\N103.jpeg']"
      ]
     },
     "execution_count": 7,
     "metadata": {},
     "output_type": "execute_result"
    }
   ],
   "source": [
    "images_path = list(data_df['filepath'].apply(get_filename))\n",
    "images_path[:5]"
   ]
  },
  {
   "cell_type": "markdown",
   "metadata": {},
   "source": [
    "#### Data Preprocessing"
   ]
  },
  {
   "cell_type": "code",
   "execution_count": 8,
   "metadata": {},
   "outputs": [],
   "source": [
    "from sklearn.model_selection import train_test_split\n",
    "from tensorflow.keras.preprocessing.image import load_img, img_to_array"
   ]
  },
  {
   "cell_type": "code",
   "execution_count": 9,
   "metadata": {},
   "outputs": [
    {
     "data": {
      "text/plain": [
       "array([[1093, 1396,  645,  727],\n",
       "       [ 134,  301,  312,  350],\n",
       "       [  31,  139,  128,  161],\n",
       "       [ 164,  316,  216,  243],\n",
       "       [ 813, 1067,  665,  724]], dtype=int64)"
      ]
     },
     "execution_count": 9,
     "metadata": {},
     "output_type": "execute_result"
    }
   ],
   "source": [
    "labels = data_df.iloc[:,1:].values\n",
    "labels[:5]"
   ]
  },
  {
   "cell_type": "code",
   "execution_count": 11,
   "metadata": {},
   "outputs": [],
   "source": [
    "input = []\n",
    "output = []\n",
    "\n",
    "for i in range(len(images_path)):\n",
    "\n",
    "    image = cv2.imread(images_path[i])\n",
    "    h, w, d = image.shape\n",
    "\n",
    "    # Image Preprocessing\n",
    "    load_image = load_img(images_path[i], target_size=(224,224))\n",
    "    image_array = img_to_array(load_image)\n",
    "    norm_image_array = image_array/255.0\n",
    "    input.append(norm_image_array)\n",
    "\n",
    "    # Labels Preprocessing\n",
    "    xmin, xmax, ymin, ymax = labels[i]\n",
    "    nxmin, nxmax = xmin/w, xmax/w\n",
    "    nymin, nymax = ymin/h, ymax/h\n",
    "\n",
    "    label_norm = (nxmin, nxmax, nymin, nymax)\n",
    "    output.append(label_norm)"
   ]
  },
  {
   "cell_type": "code",
   "execution_count": 13,
   "metadata": {},
   "outputs": [],
   "source": [
    "X = np.array(input, dtype=np.float32)\n",
    "y = np.array(output, dtype=np.float32)"
   ]
  },
  {
   "cell_type": "code",
   "execution_count": 14,
   "metadata": {},
   "outputs": [],
   "source": [
    "X_train, X_test, y_train, y_test = train_test_split(X, y, train_size=0.8, random_state=0)"
   ]
  },
  {
   "cell_type": "markdown",
   "metadata": {},
   "source": [
    "#### Model Building"
   ]
  },
  {
   "cell_type": "code",
   "execution_count": null,
   "metadata": {},
   "outputs": [],
   "source": [
    "import tensorflow as tf\n",
    "from tensorflow import keras\n",
    "from keras.applications import MobileNetV2, InceptionV3, InceptionResNetV2\n",
    "from keras.layers import Dense, Dropout, Flatten, Input\n",
    "from keras.models import Model"
   ]
  },
  {
   "cell_type": "code",
   "execution_count": null,
   "metadata": {},
   "outputs": [],
   "source": [
    "inception_resnet = InceptionResNetV2(include_top=False, weights=\"imagenet\", \n",
    "                                     input_tensor=Input(shape=(224, 224, 3)))\n",
    "\n",
    "inception_resnet.trainable = False\n",
    "\n",
    "head_model = inception_resnet.output\n",
    "head_model = Flatten()(head_model)\n",
    "head_model = Dense(500, activation=\"relu\")(head_model)\n",
    "head_model = Dense(250, activation=\"relu\")(head_model)\n",
    "head_model = Dense(4, activation=\"sigmoid\")(head_model)\n",
    "\n",
    "model = Model(inputs=inception_resnet.input, outputs=head_model)"
   ]
  },
  {
   "cell_type": "code",
   "execution_count": null,
   "metadata": {},
   "outputs": [],
   "source": [
    "model.compile(loss=\"mse\", optimizer=\"Adam\")\n",
    "model.summary()"
   ]
  },
  {
   "cell_type": "markdown",
   "metadata": {},
   "source": [
    "#### Model Training"
   ]
  },
  {
   "cell_type": "code",
   "execution_count": null,
   "metadata": {},
   "outputs": [],
   "source": [
    "from tensorflow.keras.callbacks import TensorBoard"
   ]
  },
  {
   "cell_type": "code",
   "execution_count": null,
   "metadata": {},
   "outputs": [],
   "source": [
    "tfb = TensorBoard(\"object-detection\")"
   ]
  },
  {
   "cell_type": "code",
   "execution_count": null,
   "metadata": {},
   "outputs": [],
   "source": [
    "history = model.fit(x=X_train, y=y_train, batch_size=10, \n",
    "                    epochs=10, validation_data=(X_test, y_test)\n",
    "                    callbacks=[tfb])"
   ]
  },
  {
   "cell_type": "markdown",
   "metadata": {},
   "source": [
    "#### Saving Model"
   ]
  },
  {
   "cell_type": "code",
   "execution_count": null,
   "metadata": {},
   "outputs": [],
   "source": [
    "model.save('./models/object_detection.h5')"
   ]
  }
 ],
 "metadata": {
  "kernelspec": {
   "display_name": "Python 3",
   "language": "python",
   "name": "python3"
  },
  "language_info": {
   "codemirror_mode": {
    "name": "ipython",
    "version": 3
   },
   "file_extension": ".py",
   "mimetype": "text/x-python",
   "name": "python",
   "nbconvert_exporter": "python",
   "pygments_lexer": "ipython3",
   "version": "3.12.3"
  }
 },
 "nbformat": 4,
 "nbformat_minor": 2
}
